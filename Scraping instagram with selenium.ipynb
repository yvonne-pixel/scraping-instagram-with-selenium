{
 "cells": [
  {
   "cell_type": "code",
   "execution_count": 1,
   "id": "67126024",
   "metadata": {},
   "outputs": [],
   "source": [
    "from selenium import webdriver\n",
    "from selenium.webdriver.common.keys import Keys\n",
    "from selenium.webdriver.support import expected_conditions as EC\n",
    "from selenium.webdriver.common.by import By\n",
    "from selenium.webdriver.support.wait import WebDriverWait"
   ]
  },
  {
   "cell_type": "code",
   "execution_count": 2,
   "id": "e5f28cf8",
   "metadata": {},
   "outputs": [],
   "source": [
    "# import additional libraries"
   ]
  },
  {
   "cell_type": "code",
   "execution_count": 3,
   "id": "abdd8de3",
   "metadata": {},
   "outputs": [],
   "source": [
    "import os\n",
    "import wget"
   ]
  },
  {
   "cell_type": "markdown",
   "id": "7bd9db48",
   "metadata": {},
   "source": [
    "## specify driver location url in a variable"
   ]
  },
  {
   "cell_type": "code",
   "execution_count": 4,
   "id": "1b70d32d",
   "metadata": {},
   "outputs": [
    {
     "name": "stderr",
     "output_type": "stream",
     "text": [
      "C:\\Users\\Yvonne\\AppData\\Local\\Temp\\ipykernel_10560\\625002675.py:1: DeprecationWarning: executable_path has been deprecated, please pass in a Service object\n",
      "  driver = webdriver.Chrome('C:/selenium drivers/chromedriver_win32 (2)/chromedriver.exe')\n"
     ]
    }
   ],
   "source": [
    "driver = webdriver.Chrome('C:/selenium drivers/chromedriver_win32 (2)/chromedriver.exe')\n",
    "#driver.explicitly_wait(10)\n",
    "driver.get('https://www.instagram.com/')"
   ]
  },
  {
   "cell_type": "code",
   "execution_count": 5,
   "id": "8fff0bfb",
   "metadata": {},
   "outputs": [],
   "source": [
    "username = WebDriverWait(driver,10).until(EC.element_to_be_clickable((By.CSS_SELECTOR,\"input[name = 'username']\")))\n",
    "password = WebDriverWait(driver,10).until(EC.element_to_be_clickable((By.CSS_SELECTOR,\"input[name = 'password']\")))\n",
    "username.clear()\n",
    "password.clear()\n",
    "username.send_keys('beautiful_ramblings')\n",
    "password.send_keys('**********')\n",
    "\n"
   ]
  },
  {
   "cell_type": "code",
   "execution_count": 6,
   "id": "8f49417a",
   "metadata": {},
   "outputs": [],
   "source": [
    "login = WebDriverWait(driver,10).until(EC.element_to_be_clickable((By.CSS_SELECTOR,\"button[type = 'submit']\"))).click()"
   ]
  },
  {
   "cell_type": "code",
   "execution_count": 7,
   "id": "09e40f93",
   "metadata": {},
   "outputs": [],
   "source": [
    "not_now = WebDriverWait(driver,10).until(EC.element_to_be_clickable((By.XPATH,\"//button[contains(text(),'Not Now')]\"))).click()\n",
    "not_now2 = WebDriverWait(driver,10).until(EC.element_to_be_clickable((By.XPATH,\"//button[contains(text(),'Not Now')]\"))).click()"
   ]
  },
  {
   "cell_type": "code",
   "execution_count": 15,
   "id": "5c95d986",
   "metadata": {},
   "outputs": [],
   "source": [
    "search = WebDriverWait(driver,10).until(EC.element_to_be_clickable((By.XPATH,\"//input[@placeholder = 'Search']\")))\n",
    "search.clear()\n",
    "keyword = \"food porn\"\n",
    "search.send_keys(keyword)\n"
   ]
  },
  {
   "cell_type": "code",
   "execution_count": 18,
   "id": "18bb4315",
   "metadata": {},
   "outputs": [],
   "source": [
    "search.send_keys(Keys.ENTER)\n",
    "search.send_keys(Keys.ENTER)"
   ]
  },
  {
   "cell_type": "markdown",
   "id": "233f9cbe",
   "metadata": {},
   "source": [
    "# scroll through the results"
   ]
  },
  {
   "cell_type": "code",
   "execution_count": 20,
   "id": "2151c6e6",
   "metadata": {},
   "outputs": [],
   "source": [
    "from selenium.webdriver.common.by import By"
   ]
  },
  {
   "cell_type": "code",
   "execution_count": 22,
   "id": "3911e9ca",
   "metadata": {},
   "outputs": [
    {
     "data": {
      "text/plain": [
       "['https://instagram.fnbo10-1.fna.fbcdn.net/v/t51.2885-19/280762879_138251602122426_8418639093061165141_n.jpg?stp=dst-jpg_s150x150&_nc_ht=instagram.fnbo10-1.fna.fbcdn.net&_nc_cat=106&_nc_ohc=v2AenLj9UMgAX_jfI4K&edm=AOQ1c0wBAAAA&ccb=7-5&oh=00_AT8vBrnrJYr2atQuSdsH3_tHhvZXpltxhMxTTW08l1COig&oe=630AB0ED&_nc_sid=8fd12b',\n",
       " 'https://instagram.fnbo10-1.fna.fbcdn.net/v/t51.2885-15/293866625_897265577898587_9203883769609825425_n.jpg?stp=c0.247.640.640a_dst-jpg_e15_s150x150&_nc_ht=instagram.fnbo10-1.fna.fbcdn.net&_nc_cat=111&_nc_ohc=WVFIBMg1RsEAX9yasC_&edm=AGW0Xe4BAAAA&ccb=7-5&oh=00_AT8T4ykjbLq-ZqZzna3nu4NlctvTwOsHbriqOQyHa24Sqg&oe=6305F33E&_nc_sid=acd11b',\n",
       " 'https://instagram.fnbo9-1.fna.fbcdn.net/v/t51.2885-15/298649485_473073857581072_6904373684528599531_n.jpg?stp=c0.180.1440.1440a_dst-jpg_e35_s640x640_sh0.08&_nc_ht=instagram.fnbo9-1.fna.fbcdn.net&_nc_cat=104&_nc_ohc=MRkGsqbwlqQAX8HlShj&tn=PLz_nlBu2JT8Ylw-&edm=AOQ1c0wBAAAA&ccb=7-5&oh=00_AT99ZXUJ4z80PanYXlju87GwmbMGVZpSu8cvxFJf_9hwRg&oe=630B3FD2&_nc_sid=8fd12b',\n",
       " 'https://instagram.fnbo9-1.fna.fbcdn.net/v/t51.2885-15/295357974_141491161853068_426247639336218718_n.jpg?stp=c0.280.720.720a_dst-jpg_e15_s640x640&_nc_ht=instagram.fnbo9-1.fna.fbcdn.net&_nc_cat=104&_nc_ohc=tQsx9pzHV9sAX9uPSxv&edm=AOQ1c0wBAAAA&ccb=7-5&oh=00_AT9GcFesj33RZEzcVyFv4G8ooyj-YHGZJ5xyBGQWzfwrTA&oe=63059C62&_nc_sid=8fd12b',\n",
       " 'https://instagram.fnbo10-1.fna.fbcdn.net/v/t51.2885-15/295599515_794752135033917_6577952730324516300_n.jpg?stp=c0.280.720.720a_dst-jpg_e15_s640x640&_nc_ht=instagram.fnbo10-1.fna.fbcdn.net&_nc_cat=109&_nc_ohc=s3VUAG-fD74AX8Ov3IW&edm=AOQ1c0wBAAAA&ccb=7-5&oh=00_AT8uyaS0_5q2vNZYAozSFURR-gpz8IIls5DpkUkbndHCjA&oe=6305EF90&_nc_sid=8fd12b',\n",
       " 'https://instagram.fnbo10-1.fna.fbcdn.net/v/t51.2885-15/294227393_5142845095813837_638233962077180817_n.jpg?stp=c0.280.720.720a_dst-jpg_e15_s640x640&_nc_ht=instagram.fnbo10-1.fna.fbcdn.net&_nc_cat=101&_nc_ohc=eI74I3nu0vgAX-dt41H&edm=AOQ1c0wBAAAA&ccb=7-5&oh=00_AT9gaCWDA_E82bHEulGQjFktk3Boi5bAZvV-Q--sjY-_ww&oe=630596EB&_nc_sid=8fd12b',\n",
       " 'https://instagram.fnbo9-1.fna.fbcdn.net/v/t51.2885-15/290358038_588911435926044_5130841837329922450_n.jpg?stp=c0.180.1440.1440a_dst-jpg_e35_s640x640_sh0.08&_nc_ht=instagram.fnbo9-1.fna.fbcdn.net&_nc_cat=100&_nc_ohc=bS27B70d9isAX8c_Orb&edm=AOQ1c0wBAAAA&ccb=7-5&oh=00_AT8uLSGCqznFREWosLd_wrWuR-R_OpFiUHZ3WcLKKJHM1Q&oe=6309F12A&_nc_sid=8fd12b',\n",
       " 'https://instagram.fnbo9-1.fna.fbcdn.net/v/t51.2885-15/287579216_748514886192377_2809285958534150524_n.jpg?stp=dst-jpg_e35_p1080x1080&_nc_ht=instagram.fnbo9-1.fna.fbcdn.net&_nc_cat=105&_nc_ohc=ax5Ov9i9qSQAX-QaMso&edm=AOQ1c0wBAAAA&ccb=7-5&oh=00_AT8II4F4mC5-7D_vAztJFBT-Wb58tYHFJzwNAjlhRO8PLA&oe=630A57E4&_nc_sid=8fd12b',\n",
       " 'https://instagram.fnbo9-1.fna.fbcdn.net/v/t51.2885-15/287095422_3116788075252627_1942571540439164813_n.jpg?stp=c0.180.1440.1440a_dst-jpg_e35_s640x640_sh0.08&_nc_ht=instagram.fnbo9-1.fna.fbcdn.net&_nc_cat=107&_nc_ohc=jFBBR0tnIDEAX-HhfRQ&edm=AOQ1c0wBAAAA&ccb=7-5&oh=00_AT9W-ptlrhF7Y7TiONEhKYHMSOW_EjAhBoFug6EYVfMyVA&oe=63096CBA&_nc_sid=8fd12b',\n",
       " 'https://instagram.fnbo10-1.fna.fbcdn.net/v/t51.2885-15/285373602_1328029961041338_4457457820453020859_n.jpg?stp=c0.180.1440.1440a_dst-jpg_e35_s640x640_sh0.08&_nc_ht=instagram.fnbo10-1.fna.fbcdn.net&_nc_cat=106&_nc_ohc=DxhtYNbr3hAAX-Plq0g&edm=AOQ1c0wBAAAA&ccb=7-5&oh=00_AT8Qe41A-p5W6A8WJkARee-pmbv8Mv0V1BI9RkX53ipAeQ&oe=6309A24D&_nc_sid=8fd12b',\n",
       " 'https://instagram.fnbo9-1.fna.fbcdn.net/v/t51.2885-15/284434711_1300513337024799_1598391742690278516_n.jpg?stp=c180.0.1080.1080a_dst-jpg_e35_s640x640_sh0.08&_nc_ht=instagram.fnbo9-1.fna.fbcdn.net&_nc_cat=103&_nc_ohc=kiK2Oe3MMe0AX9RNKiw&edm=AOQ1c0wBAAAA&ccb=7-5&oh=00_AT82QiMcwWRRMw5TQfN3OetjwE7wR0QIIJv2mIdQcneNAw&oe=6309ADFB&_nc_sid=8fd12b',\n",
       " 'https://instagram.fnbo10-1.fna.fbcdn.net/v/t51.2885-15/283606069_1174601526637141_9123162101027990302_n.jpg?stp=c0.113.902.902a_dst-jpg_e35_s640x640_sh0.08&_nc_ht=instagram.fnbo10-1.fna.fbcdn.net&_nc_cat=101&_nc_ohc=-abtH3O6GHAAX-J8u-8&edm=AOQ1c0wBAAAA&ccb=7-5&oh=00_AT-S54fUkvyKHJ5Qv--jIBKDEolDcSHDkMiiyuwcn6bjtw&oe=6309C31C&_nc_sid=8fd12b',\n",
       " 'https://instagram.fnbo10-1.fna.fbcdn.net/v/t51.2885-15/283141789_548303233537739_6263028256226438590_n.jpg?stp=c0.117.937.937a_dst-jpg_e35_s640x640_sh0.08&_nc_ht=instagram.fnbo10-1.fna.fbcdn.net&_nc_cat=111&_nc_ohc=NTfHon-e5AwAX8kY9l3&edm=AOQ1c0wBAAAA&ccb=7-5&oh=00_AT9cktO5RQ37YXzHelZU545Gxau_x_ARlgYsFeejH2DCtw&oe=630AFFAA&_nc_sid=8fd12b',\n",
       " 'https://instagram.fnbo9-1.fna.fbcdn.net/v/t51.2885-15/283091721_848825863174543_4137776911386581537_n.jpg?stp=dst-jpg_e35_s640x640_sh0.08&_nc_ht=instagram.fnbo9-1.fna.fbcdn.net&_nc_cat=107&_nc_ohc=na29CGi-ppkAX-U1min&tn=PLz_nlBu2JT8Ylw-&edm=AOQ1c0wBAAAA&ccb=7-5&oh=00_AT_tZqqUsM3TwWVrYAcBXWCvozbHTEngsRxw9uYeOpZQYg&oe=6309AA45&_nc_sid=8fd12b',\n",
       " 'https://instagram.fnbo10-1.fna.fbcdn.net/v/t51.2885-15/281934507_1083047588948258_1981572775898517806_n.jpg?stp=c0.180.1440.1440a_dst-jpg_e35_s640x640_sh0.08&_nc_ht=instagram.fnbo10-1.fna.fbcdn.net&_nc_cat=102&_nc_ohc=QkseUIwjk5MAX8N5RL3&edm=APU89FABAAAA&ccb=7-5&oh=00_AT-_mw6x5VV5F-QdSDqgDnczY5pi7QL16uC-1OLbyBuImw&oe=630A1D46&_nc_sid=86f79a',\n",
       " 'https://instagram.fnbo10-1.fna.fbcdn.net/v/t51.2885-15/280837071_5030176893685686_4640422155430662309_n.jpg?stp=c180.0.1080.1080a_dst-jpg_e35_s640x640_sh0.08&_nc_ht=instagram.fnbo10-1.fna.fbcdn.net&_nc_cat=106&_nc_ohc=G5yIwDA8WecAX965h0q&tn=PLz_nlBu2JT8Ylw-&edm=APU89FABAAAA&ccb=7-5&oh=00_AT-x5A_Y75uNU7EzE6RSaYz9kr0pf6ctb2EZAk4xjc2Isw&oe=63096CEC&_nc_sid=86f79a',\n",
       " 'https://scontent.cdninstagram.com/v/t51.2885-19/283728708_600216784352093_3200921365991905183_n.jpg?stp=dst-jpg_s150x150&_nc_ht=scontent.cdninstagram.com&_nc_cat=105&_nc_ohc=0DI3ZW_RerQAX8pNTJc&edm=APs17CUBAAAA&ccb=7-5&oh=00_AT8i-tSyY_i7jZJutERbm3Z7wvulNRJo8TfQ5UkL134-vQ&oe=630A6524&_nc_sid=978cb9']"
      ]
     },
     "execution_count": 22,
     "metadata": {},
     "output_type": "execute_result"
    }
   ],
   "source": [
    "driver.execute_script(\"window.scrollTo(0,4000);\")\n",
    "\n",
    "images = driver.find_elements(By.TAG_NAME, 'img')\n",
    "images = [image.get_attribute('src')for image in images]\n",
    "\n",
    "images\n"
   ]
  },
  {
   "cell_type": "markdown",
   "id": "1b3fe0b5",
   "metadata": {},
   "source": [
    "\n",
    "## downloading the images\n"
   ]
  },
  {
   "cell_type": "code",
   "execution_count": 26,
   "id": "79f40207",
   "metadata": {},
   "outputs": [
    {
     "data": {
      "text/plain": [
       "'C:\\\\Users\\\\Yvonne\\\\anaconda3\\\\food porn'"
      ]
     },
     "execution_count": 26,
     "metadata": {},
     "output_type": "execute_result"
    }
   ],
   "source": [
    "path = os.getcwd()\n",
    "path = os.path.join(path, keyword)\n",
    "os.mkdir(path)\n",
    "path"
   ]
  },
  {
   "cell_type": "code",
   "execution_count": 33,
   "id": "f38c2aa6",
   "metadata": {},
   "outputs": [],
   "source": [
    "counter = 0\n",
    "for image in images:\n",
    "    save_as = os.path.join(path,keyword + str(counter) +'.jpg')\n",
    "    wget.download(image,save_as)\n",
    "    counter += 1\n",
    "    "
   ]
  },
  {
   "cell_type": "code",
   "execution_count": null,
   "id": "eb67b436",
   "metadata": {},
   "outputs": [],
   "source": []
  }
 ],
 "metadata": {
  "kernelspec": {
   "display_name": "Python 3 (ipykernel)",
   "language": "python",
   "name": "python3"
  },
  "language_info": {
   "codemirror_mode": {
    "name": "ipython",
    "version": 3
   },
   "file_extension": ".py",
   "mimetype": "text/x-python",
   "name": "python",
   "nbconvert_exporter": "python",
   "pygments_lexer": "ipython3",
   "version": "3.9.12"
  }
 },
 "nbformat": 4,
 "nbformat_minor": 5
}
